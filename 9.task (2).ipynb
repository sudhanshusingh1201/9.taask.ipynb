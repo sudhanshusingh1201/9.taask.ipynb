{
 "cells": [
  {
   "cell_type": "code",
   "execution_count": null,
   "id": "c3997d7d-1b4c-49a8-af8c-62ff1bd97b9d",
   "metadata": {},
   "outputs": [],
   "source": [
    "def add_lists_index_wise(list1, list2):\n",
    "    result = []\n",
    "    len1, len2 = len(list1), len(list2)\n",
    "    min_len = min(len1, len2)\n",
    "\n",
    "    # Add index-wise elements\n",
    "    for i in range(min_len):\n",
    "        result.append(list1[i] + list2[i])\n",
    "\n",
    "    # Add leftover elements from longer list\n",
    "    if len1 > len2:\n",
    "        result.extend(list1[min_len:])\n",
    "    elif len2 > len1:\n",
    "        result.extend(list2[min_len:])\n",
    "\n",
    "    return result\n",
    "\n",
    " Given lists\n",
    "list1 = [\"M\", \"na\", \"i\", \"Kh\"]\n",
    "list2 = [\"y\", \"me\", \"s\", \"an\"]\n",
    "\n",
    " Test\n",
    "output = add_lists_index_wise(list1, list2)\n",
    "print(output)\n"
   ]
  },
  {
   "cell_type": "code",
   "execution_count": 15,
   "id": "20972900-2763-4b42-bd8d-5728f020c17d",
   "metadata": {},
   "outputs": [
    {
     "name": "stdout",
     "output_type": "stream",
     "text": [
      "[10, 20, [300, 400, [5000, 6000, 7000], 500], 30, 40]\n"
     ]
    }
   ],
   "source": [
    "l=[10, 20, [300, 400, [5000, 6000], 500], 30, 40]\n",
    "l[2][2].insert(2, 7000)\n",
    "print(l)"
   ]
  },
  {
   "cell_type": "code",
   "execution_count": 16,
   "id": "c019195a-1a93-44ac-a962-b33f9fd8b6a3",
   "metadata": {},
   "outputs": [
    {
     "name": "stdout",
     "output_type": "stream",
     "text": [
      "Jelly Belly-10\n",
      "Kit Kat-20\n",
      "Double Bubble-34\n",
      "Milky Way-74\n",
      "Three Musketeers-32\n"
     ]
    }
   ],
   "source": [
    "candy_list = ['Jelly Belly','Kit Kat','Double Bubble','Milky Way','Three Musketeers']\n",
    "no_of_items = [10, 20, 34, 74, 32]\n",
    "\n",
    "for candy, count in zip(candy_list, no_of_items):\n",
    "    print(f\"{candy}-{count}\")\n"
   ]
  },
  {
   "cell_type": "code",
   "execution_count": 18,
   "id": "16e0f15d-473a-4b6f-a571-ee65059951c2",
   "metadata": {},
   "outputs": [
    {
     "name": "stdout",
     "output_type": "stream",
     "text": [
      "[54, 110, 188, 222, 678, 745]\n"
     ]
    }
   ],
   "source": [
    "def running_sum(nums):\n",
    "    result = []\n",
    "    total = 0\n",
    "    for num in nums:\n",
    "        total += num\n",
    "        result.append(total)\n",
    "    return result\n",
    "\n",
    "list1 = [54,56,78,34,456,67]\n",
    "print(running_sum(list1))\n"
   ]
  },
  {
   "cell_type": "code",
   "execution_count": 1,
   "id": "1f433f1c-82f2-4c1e-abb9-28067b4fb703",
   "metadata": {},
   "outputs": [
    {
     "name": "stdout",
     "output_type": "stream",
     "text": [
      "[22, 20, 16, 10, 23]\n"
     ]
    }
   ],
   "source": [
    "def sum_with_greater_elements(nums):\n",
    "    result = []\n",
    "    for i in range(len(nums)):\n",
    "        current = nums[i]\n",
    "        # Sum current element and all elements greater than current\n",
    "        s = current + sum(x for x in nums if x > current)\n",
    "        result.append(s)\n",
    "    return result\n",
    "\n",
    "lst = [2, 4, 6, 10, 1]\n",
    "print(sum_with_greater_elements(lst))\n"
   ]
  },
  {
   "cell_type": "code",
   "execution_count": 2,
   "id": "8a06ce54-6c36-4abf-b0b9-fcbdbdbef908",
   "metadata": {},
   "outputs": [
    {
     "name": "stdout",
     "output_type": "stream",
     "text": [
      "[34, 67, 89]\n"
     ]
    }
   ],
   "source": [
    "num1 = [23, 45, 67, 78, 89, 34]\n",
    "num2 = [34, 89, 55, 56, 39, 67]\n",
    "\n",
    "# Find intersection and sort the result\n",
    "common_items = sorted(set(num1) & set(num2))\n",
    "\n",
    "print(common_items)\n"
   ]
  },
  {
   "cell_type": "code",
   "execution_count": 4,
   "id": "7dacf467-8920-4361-b680-9f02623a8a41",
   "metadata": {},
   "outputs": [
    {
     "name": "stdout",
     "output_type": "stream",
     "text": [
      "['456', '23fg', '1ac21', '1', 'kls', '098d']\n"
     ]
    }
   ],
   "source": [
    "from functools import reduce\n",
    "\n",
    "def digit_product(s):\n",
    "    digits = [int(c) for c in s if c.isdigit()]\n",
    "    if not digits:\n",
    "        return 1\n",
    "    return reduce(lambda x, y: x * y, digits)\n",
    "\n",
    "# Input list\n",
    "lst = ['1ac21', '23fg', '456', '098d','1','kls']\n",
    "\n",
    "# Sort based on digit product\n",
    "sorted_list = sorted(lst, key=digit_product, reverse=True)\n",
    "\n",
    "print(sorted_list)\n"
   ]
  },
  {
   "cell_type": "code",
   "execution_count": 6,
   "id": "44a72fd2-5a86-454a-b70f-6311304906a4",
   "metadata": {},
   "outputs": [
    {
     "name": "stdout",
     "output_type": "stream",
     "text": [
      "['CampusX', 'is', 'a', 'channel', 'for', 'data-science', 'aspirants.']\n"
     ]
    }
   ],
   "source": [
    "input_list = ['CampusX is a channel', 'for data-science', 'aspirants.']\n",
    "\n",
    "# Split each string by spaces and flatten the result\n",
    "output = [word for sentence in input_list for word in sentence.split()]\n",
    "\n",
    "print(output)\n"
   ]
  },
  {
   "cell_type": "code",
   "execution_count": 8,
   "id": "91c7e4cb-a1b5-4b04-986c-98fb96d9fb41",
   "metadata": {},
   "outputs": [
    {
     "name": "stdout",
     "output_type": "stream",
     "text": [
      "campux is best channel\n"
     ]
    }
   ],
   "source": [
    "matrix = [['c', 'a', 'm', 'p', 'u', 'x'], ['i', 's'], ['b', 'e', 's', 't'], ['c', 'h', 'a', 'n', 'n', 'e', 'l']]\n",
    "\n",
    "# Convert matrix to string\n",
    "result = ' '.join([''.join(sublist) for sublist in matrix])\n",
    "\n",
    "print(result)\n"
   ]
  },
  {
   "cell_type": "code",
   "execution_count": 10,
   "id": "20265b79-b4cc-4dc6-b693-26882aae3df4",
   "metadata": {},
   "outputs": [
    {
     "name": "stdout",
     "output_type": "stream",
     "text": [
      "['campusx Is', 'best For', 'data Scientist']\n"
     ]
    }
   ],
   "source": [
    "input_list = ['campusxIs', 'bestFor', 'dataScientist']\n",
    "\n",
    "# Add space before uppercase letters (excluding first char)\n",
    "output = [''.join([' ' + c if c.isupper() else c for c in word]).strip() for word in input_list]\n",
    "\n",
    "print(output)\n"
   ]
  },
  {
   "cell_type": "code",
   "execution_count": 11,
   "id": "512a1301-f100-4bc4-98d7-fbfe80b8054c",
   "metadata": {},
   "outputs": [
    {
     "name": "stdout",
     "output_type": "stream",
     "text": [
      "[1, 2, 3, 4, 5, 7, 8]\n"
     ]
    }
   ],
   "source": [
    "list1 = [1, 2, 3, 4, 5, 1]\n",
    "list2 = [2, 3, 5, 7, 8]\n",
    "\n",
    "# Perform union using set, then convert back to list and sort\n",
    "union_result = list(set(list1) | set(list2))\n",
    "\n",
    "print(union_result)\n"
   ]
  },
  {
   "cell_type": "code",
   "execution_count": 13,
   "id": "355f976a-e8a0-4cf8-8366-488b98201448",
   "metadata": {},
   "outputs": [
    {
     "name": "stdout",
     "output_type": "stream",
     "text": [
      "[[0, 1, 2], [3, 4, 5], [6, 7, 8]]\n"
     ]
    }
   ],
   "source": [
    "matrix = [[i * 3 + j for j in range(3)] for i in range(3)]\n",
    "print(matrix)\n"
   ]
  },
  {
   "cell_type": "code",
   "execution_count": 14,
   "id": "643aff09-ba22-451b-bb34-a57984a9f3ac",
   "metadata": {},
   "outputs": [
    {
     "name": "stdout",
     "output_type": "stream",
     "text": [
      "[[1, 4, 7], [2, 5, 8], [3, 6, 9]]\n"
     ]
    }
   ],
   "source": [
    "matrix = [\n",
    "    [1, 2, 3],\n",
    "    [4, 5, 6],\n",
    "    [7, 8, 9]\n",
    "]\n",
    "\n",
    "# Transpose using list comprehension\n",
    "transpose = [[row[i] for row in matrix] for i in range(len(matrix[0]))]\n",
    "\n",
    "print(transpose)\n"
   ]
  },
  {
   "cell_type": "code",
   "execution_count": 15,
   "id": "58705df5-17b3-413e-a8dd-be42e7959033",
   "metadata": {},
   "outputs": [
    {
     "name": "stdout",
     "output_type": "stream",
     "text": [
      "[1, 2, 3, 4, 5, 6, 7, 8, 9]\n"
     ]
    }
   ],
   "source": [
    "matrix = [\n",
    "    [1, 2, 3],\n",
    "    [4, 5, 6],\n",
    "    [7, 8, 9]\n",
    "]\n",
    "\n",
    "# Flatten using list comprehension\n",
    "flattened = [element for row in matrix for element in row]\n",
    "\n",
    "print(flattened)\n"
   ]
  },
  {
   "cell_type": "code",
   "execution_count": 2,
   "id": "ec4304b5-75a2-411a-a31d-0ec49b10e71d",
   "metadata": {},
   "outputs": [
    {
     "name": "stdout",
     "output_type": "stream",
     "text": [
      "[11, 23, 4, 56, 7, 89, 67]\n",
      "[11, 23, 55, 4, 56, 7, 89, 67]\n",
      "[]\n",
      "[78]\n"
     ]
    }
   ],
   "source": [
    "l=[11,23,4,56,7,89]\n",
    "(l.append(67))\n",
    "print(l)\n",
    "l.insert(2,55)\n",
    "print(l)\n",
    "l.clear()\n",
    "print(l)\n",
    "#l.remove(23)\n",
    "l.append(78)\n",
    "print(l)"
   ]
  },
  {
   "cell_type": "code",
   "execution_count": null,
   "id": "b2fda906-e288-4e35-9d66-4785de1b8e06",
   "metadata": {},
   "outputs": [],
   "source": [
    "import numpy as np\n",
    "matrix =np.array([[1,2,3],\n",
    "                  [4,5,6],\n",
    "                  [7,8,8]])"
   ]
  }
 ],
 "metadata": {
  "kernelspec": {
   "display_name": "Python 3 (ipykernel)",
   "language": "python",
   "name": "python3"
  },
  "language_info": {
   "codemirror_mode": {
    "name": "ipython",
    "version": 3
   },
   "file_extension": ".py",
   "mimetype": "text/x-python",
   "name": "python",
   "nbconvert_exporter": "python",
   "pygments_lexer": "ipython3",
   "version": "3.13.1"
  }
 },
 "nbformat": 4,
 "nbformat_minor": 5
}
